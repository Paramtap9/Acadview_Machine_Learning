{
 "cells": [
  {
   "cell_type": "code",
   "execution_count": 2,
   "metadata": {},
   "outputs": [],
   "source": [
    "import pandas as pd"
   ]
  },
  {
   "cell_type": "code",
   "execution_count": 4,
   "metadata": {},
   "outputs": [
    {
     "name": "stdout",
     "output_type": "stream",
     "text": [
      "Date,Location,MinTemp,MaxTemp,Rainfall,Evaporation,Sunshine,WindGustDir,WindGustSpeed,WindDir9am,WindDir3pm,WindSpeed9am,WindSpeed3pm,Humidity9am,Humidity3pm,Pressure9am,Pressure3pm,Cloud9am,Cloud3pm,Temp9am,Temp3pm,RainToday,RISK_MM,RainTomorrow    0\n",
      "dtype: int64\n"
     ]
    }
   ],
   "source": [
    "# Question a\n",
    "data=pd.read_csv('question_5_data.csv')\n",
    "print(data.isnull().sum())"
   ]
  },
  {
   "cell_type": "code",
   "execution_count": 8,
   "metadata": {},
   "outputs": [
    {
     "name": "stdout",
     "output_type": "stream",
     "text": [
      "Date,Location,MinTemp,MaxTemp,Rainfall,Evaporation,Sunshine,WindGustDir,WindGustSpeed,WindDir9am,WindDir3pm,WindSpeed9am,WindSpeed3pm,Humidity9am,Humidity3pm,Pressure9am,Pressure3pm,Cloud9am,Cloud3pm,Temp9am,Temp3pm,RainToday,RISK_MM,RainTomorrow    0\n",
      "dtype: int64\n"
     ]
    }
   ],
   "source": [
    "# Question b\n",
    "data=data.dropna() \n",
    "print(data.isnull().sum())"
   ]
  },
  {
   "cell_type": "code",
   "execution_count": 10,
   "metadata": {},
   "outputs": [
    {
     "name": "stdout",
     "output_type": "stream",
     "text": [
      "    Date,Location,MinTemp,MaxTemp,Rainfall,Evaporation,Sunshine,WindGustDir,WindGustSpeed,WindDir9am,WindDir3pm,WindSpeed9am,WindSpeed3pm,Humidity9am,Humidity3pm,Pressure9am,Pressure3pm,Cloud9am,Cloud3pm,Temp9am,Temp3pm,RainToday,RISK_MM,RainTomorrow\n",
      "0    11/1/2007,Canberra,8,24.3,0,3.4,6.3,NW,30,SW,N...                                                                                                                                                                                                    \n",
      "1    11/2/2007,Canberra,14,26.9,3.6,4.4,9.7,ENE,39,...                                                                                                                                                                                                    \n",
      "2    11/3/2007,Canberra,13.7,23.4,3.6,5.8,3.3,NW,85...                                                                                                                                                                                                    \n",
      "3    11/4/2007,Canberra,13.3,15.5,39.8,7.2,9.1,NW,5...                                                                                                                                                                                                    \n",
      "4    11/5/2007,Canberra,7.6,16.1,2.8,5.6,10.6,SSE,5...                                                                                                                                                                                                    \n",
      "5    11/6/2007,Canberra,6.2,16.9,0,5.8,8.2,SE,44,SE...                                                                                                                                                                                                    \n",
      "6    11/7/2007,Canberra,6.1,18.2,0.2,4.2,8.4,SE,43,...                                                                                                                                                                                                    \n",
      "7    11/8/2007,Canberra,8.3,17,0,5.6,4.6,E,41,SE,E,...                                                                                                                                                                                                    \n",
      "8    11/9/2007,Canberra,8.8,19.5,0,4,4.1,S,48,E,ENE...                                                                                                                                                                                                    \n",
      "9    11/10/2007,Canberra,8.4,22.8,16.2,5.4,7.7,E,31...                                                                                                                                                                                                    \n",
      "10   11/11/2007,Canberra,9.1,25.2,0,4.2,11.9,N,30,S...                                                                                                                                                                                                    \n",
      "11   11/12/2007,Canberra,8.5,27.3,0.2,7.2,12.5,E,41...                                                                                                                                                                                                    \n",
      "12   11/13/2007,Canberra,10.1,27.9,0,7.2,13,WNW,30,...                                                                                                                                                                                                    \n",
      "13   11/14/2007,Canberra,12.1,30.9,0,6.2,12.4,NW,44...                                                                                                                                                                                                    \n",
      "14   11/15/2007,Canberra,10.1,31.2,0,8.8,13.1,NW,41...                                                                                                                                                                                                    \n",
      "15   11/16/2007,Canberra,12.4,32.1,0,8.4,11.1,E,46,...                                                                                                                                                                                                    \n",
      "16   11/17/2007,Canberra,13.8,31.2,0,7.2,8.4,ESE,44...                                                                                                                                                                                                    \n",
      "17   11/18/2007,Canberra,11.7,30,1.2,7.2,10.1,S,52,...                                                                                                                                                                                                    \n",
      "18   11/19/2007,Canberra,12.4,32.3,0.6,7.4,13,E,39,...                                                                                                                                                                                                    \n",
      "19   11/20/2007,Canberra,15.6,33.4,0,8,10.4,NE,33,N...                                                                                                                                                                                                    \n",
      "20   11/21/2007,Canberra,15.3,33.4,0,8.8,9.5,WNW,59...                                                                                                                                                                                                    \n",
      "21   11/22/2007,Canberra,16.4,19.4,0.4,9.2,0,E,26,E...                                                                                                                                                                                                    \n",
      "22   11/23/2007,Canberra,12.8,18.5,25.8,2.8,0.6,ESE...                                                                                                                                                                                                    \n",
      "23   11/24/2007,Canberra,12,24.3,0.4,1.2,7.5,NNE,26...                                                                                                                                                                                                    \n",
      "24   11/25/2007,Canberra,15.4,28.4,0,4.4,8.1,ENE,33...                                                                                                                                                                                                    \n",
      "25   11/26/2007,Canberra,15.6,26.9,0,6.8,8.9,E,41,E...                                                                                                                                                                                                    \n",
      "26   11/27/2007,Canberra,13.3,22.2,0.2,6.6,2.3,ENE,...                                                                                                                                                                                                    \n",
      "27   11/28/2007,Canberra,12.9,28,0,4.4,10.7,S,52,S,...                                                                                                                                                                                                    \n",
      "28   11/29/2007,Canberra,15.1,24.3,0,7,0.4,SE,39,SE...                                                                                                                                                                                                    \n",
      "29   11/30/2007,Canberra,13.6,24.1,0.4,2.6,0.5,NNW,...                                                                                                                                                                                                    \n",
      "..                                                 ...                                                                                                                                                                                                    \n",
      "336  10/2/2008,Canberra,5.6,27.6,0,5.2,11,NW,46,NNW...                                                                                                                                                                                                    \n",
      "337  10/3/2008,Canberra,16.8,28.9,0,10,10.8,NNW,70,...                                                                                                                                                                                                    \n",
      "338  10/4/2008,Canberra,14.4,20.7,7.6,9.4,4.9,NNW,3...                                                                                                                                                                                                    \n",
      "339  10/5/2008,Canberra,10.3,21.3,3,4.2,6.7,NNW,43,...                                                                                                                                                                                                    \n",
      "340  10/6/2008,Canberra,11.2,18,0,4.8,8.4,W,65,N,W,...                                                                                                                                                                                                    \n",
      "341  10/7/2008,Canberra,0.3,16,8.2,5.4,11.8,NW,57,N...                                                                                                                                                                                                    \n",
      "342  10/8/2008,Canberra,0.5,17.9,0,5.8,11.5,N,44,NN...                                                                                                                                                                                                    \n",
      "343  10/9/2008,Canberra,0.5,20,0,6.2,11.5,NNW,31,S,...                                                                                                                                                                                                    \n",
      "344  10/10/2008,Canberra,4.6,22,0,4.4,11,N,41,NNW,N...                                                                                                                                                                                                    \n",
      "345  10/11/2008,Canberra,8.2,22.4,0,5.4,11.2,NW,31,...                                                                                                                                                                                                    \n",
      "346  10/12/2008,Canberra,4.5,23.9,0,4.8,11.7,NW,30,...                                                                                                                                                                                                    \n",
      "347  10/13/2008,Canberra,6.7,26.1,0,6.2,7.5,SSW,70,...                                                                                                                                                                                                    \n",
      "348  10/14/2008,Canberra,11.9,21.1,13.2,6.6,NA,NW,4...                                                                                                                                                                                                    \n",
      "349  10/15/2008,Canberra,9.2,19.6,0.6,3.4,10.4,ENE,...                                                                                                                                                                                                    \n",
      "350  10/16/2008,Canberra,4.4,21,0,4.2,12.2,NW,28,SW...                                                                                                                                                                                                    \n",
      "351  10/17/2008,Canberra,5,24.1,0,6.2,12,NNW,52,NA,...                                                                                                                                                                                                    \n",
      "352  10/18/2008,Canberra,6.7,24.7,0,5.4,8.6,NW,43,N...                                                                                                                                                                                                    \n",
      "353  10/19/2008,Canberra,8.3,28.5,0,5.8,9.8,NW,46,W...                                                                                                                                                                                                    \n",
      "354  10/20/2008,Canberra,11.3,27.4,0.2,7.6,12.1,NW,...                                                                                                                                                                                                    \n",
      "355  10/21/2008,Canberra,9,20.6,0,9,6.2,ENE,39,S,SW...                                                                                                                                                                                                    \n",
      "356  10/22/2008,Canberra,3.4,15,0.8,4.8,11.7,S,70,S...                                                                                                                                                                                                    \n",
      "357  10/23/2008,Canberra,3.2,18,0,7.4,12.2,SSE,48,S...                                                                                                                                                                                                    \n",
      "358  10/24/2008,Canberra,0.9,20.7,0,5.4,8.4,NNW,39,...                                                                                                                                                                                                    \n",
      "359  10/25/2008,Canberra,3.3,25.5,0,5.2,10.8,N,43,N...                                                                                                                                                                                                    \n",
      "360  10/26/2008,Canberra,7.9,26.1,0,6.8,3.5,NNW,43,...                                                                                                                                                                                                    \n",
      "361  10/27/2008,Canberra,9,30.7,0,7.6,12.1,NNW,76,S...                                                                                                                                                                                                    \n",
      "362  10/28/2008,Canberra,7.1,28.4,0,11.6,12.7,N,48,...                                                                                                                                                                                                    \n",
      "363  10/29/2008,Canberra,12.5,19.9,0,8.4,5.3,ESE,43...                                                                                                                                                                                                    \n",
      "364  10/30/2008,Canberra,12.5,26.9,0,5,7.1,NW,46,SS...                                                                                                                                                                                                    \n",
      "365  10/31/2008,Canberra,12.3,30.2,0,6,12.6,NW,78,N...                                                                                                                                                                                                    \n",
      "\n",
      "[366 rows x 1 columns]\n"
     ]
    }
   ],
   "source": [
    "# Question c\n",
    "data1=pd.read_csv('question_5_data.csv')\n",
    "print(data1.fillna(data1.mean()))"
   ]
  },
  {
   "cell_type": "code",
   "execution_count": 12,
   "metadata": {},
   "outputs": [
    {
     "name": "stdout",
     "output_type": "stream",
     "text": [
      "Date,Location,MinTemp,MaxTemp,Rainfall,Evaporation,Sunshine,WindGustDir,WindGustSpeed,WindDir9am,WindDir3pm,WindSpeed9am,WindSpeed3pm,Humidity9am,Humidity3pm,Pressure9am,Pressure3pm,Cloud9am,Cloud3pm,Temp9am,Temp3pm,RainToday,RISK_MM,RainTomorrow    object\n",
      "dtype: object\n"
     ]
    },
    {
     "ename": "AttributeError",
     "evalue": "'DataFrame' object has no attribute 'MaxTemp'",
     "output_type": "error",
     "traceback": [
      "\u001b[0;31m---------------------------------------------------------------------------\u001b[0m",
      "\u001b[0;31mAttributeError\u001b[0m                            Traceback (most recent call last)",
      "\u001b[0;32m<ipython-input-12-673989f2ecb6>\u001b[0m in \u001b[0;36m<module>\u001b[0;34m()\u001b[0m\n\u001b[1;32m      1\u001b[0m \u001b[0;31m# Question d\u001b[0m\u001b[0;34m\u001b[0m\u001b[0;34m\u001b[0m\u001b[0m\n\u001b[1;32m      2\u001b[0m \u001b[0mprint\u001b[0m\u001b[0;34m(\u001b[0m\u001b[0mdata1\u001b[0m\u001b[0;34m.\u001b[0m\u001b[0mdtypes\u001b[0m\u001b[0;34m)\u001b[0m\u001b[0;34m\u001b[0m\u001b[0m\n\u001b[0;32m----> 3\u001b[0;31m \u001b[0mdata2\u001b[0m\u001b[0;34m=\u001b[0m\u001b[0mpd\u001b[0m\u001b[0;34m.\u001b[0m\u001b[0mSeries\u001b[0m\u001b[0;34m(\u001b[0m\u001b[0mdata1\u001b[0m\u001b[0;34m=\u001b[0m\u001b[0mdata\u001b[0m\u001b[0;34m.\u001b[0m\u001b[0mMaxTemp\u001b[0m\u001b[0;34m)\u001b[0m\u001b[0;34m\u001b[0m\u001b[0m\n\u001b[0m\u001b[1;32m      4\u001b[0m \u001b[0mprint\u001b[0m\u001b[0;34m(\u001b[0m\u001b[0mdata2\u001b[0m\u001b[0;34m)\u001b[0m\u001b[0;34m\u001b[0m\u001b[0m\n",
      "\u001b[0;32m/Users/paramtapverma/anaconda/lib/python3.6/site-packages/pandas/core/generic.py\u001b[0m in \u001b[0;36m__getattr__\u001b[0;34m(self, name)\u001b[0m\n\u001b[1;32m   2968\u001b[0m             \u001b[0;32mif\u001b[0m \u001b[0mname\u001b[0m \u001b[0;32min\u001b[0m \u001b[0mself\u001b[0m\u001b[0;34m.\u001b[0m\u001b[0m_info_axis\u001b[0m\u001b[0;34m:\u001b[0m\u001b[0;34m\u001b[0m\u001b[0m\n\u001b[1;32m   2969\u001b[0m                 \u001b[0;32mreturn\u001b[0m \u001b[0mself\u001b[0m\u001b[0;34m[\u001b[0m\u001b[0mname\u001b[0m\u001b[0;34m]\u001b[0m\u001b[0;34m\u001b[0m\u001b[0m\n\u001b[0;32m-> 2970\u001b[0;31m             \u001b[0;32mreturn\u001b[0m \u001b[0mobject\u001b[0m\u001b[0;34m.\u001b[0m\u001b[0m__getattribute__\u001b[0m\u001b[0;34m(\u001b[0m\u001b[0mself\u001b[0m\u001b[0;34m,\u001b[0m \u001b[0mname\u001b[0m\u001b[0;34m)\u001b[0m\u001b[0;34m\u001b[0m\u001b[0m\n\u001b[0m\u001b[1;32m   2971\u001b[0m \u001b[0;34m\u001b[0m\u001b[0m\n\u001b[1;32m   2972\u001b[0m     \u001b[0;32mdef\u001b[0m \u001b[0m__setattr__\u001b[0m\u001b[0;34m(\u001b[0m\u001b[0mself\u001b[0m\u001b[0;34m,\u001b[0m \u001b[0mname\u001b[0m\u001b[0;34m,\u001b[0m \u001b[0mvalue\u001b[0m\u001b[0;34m)\u001b[0m\u001b[0;34m:\u001b[0m\u001b[0;34m\u001b[0m\u001b[0m\n",
      "\u001b[0;31mAttributeError\u001b[0m: 'DataFrame' object has no attribute 'MaxTemp'"
     ]
    }
   ],
   "source": [
    "# Question d\n",
    "print(data1.dtypes)\n",
    "data2=pd.Series(data1=data.MaxTemp)\n",
    "print(data2)"
   ]
  },
  {
   "cell_type": "code",
   "execution_count": null,
   "metadata": {
    "collapsed": true
   },
   "outputs": [],
   "source": []
  }
 ],
 "metadata": {
  "kernelspec": {
   "display_name": "Python 3",
   "language": "python",
   "name": "python3"
  },
  "language_info": {
   "codemirror_mode": {
    "name": "ipython",
    "version": 3
   },
   "file_extension": ".py",
   "mimetype": "text/x-python",
   "name": "python",
   "nbconvert_exporter": "python",
   "pygments_lexer": "ipython3",
   "version": "3.6.1"
  }
 },
 "nbformat": 4,
 "nbformat_minor": 2
}
